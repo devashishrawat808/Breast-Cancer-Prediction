{
 "cells": [
  {
   "cell_type": "markdown",
   "metadata": {},
   "source": [
    "# Breast Cancer Data Set"
   ]
  },
  {
   "cell_type": "markdown",
   "metadata": {},
   "source": [
    "### Importing libraries"
   ]
  },
  {
   "cell_type": "code",
   "execution_count": 1,
   "metadata": {},
   "outputs": [],
   "source": [
    "import pandas as pd\n",
    "import numpy as np\n",
    "import seaborn as sns\n",
    "from sklearn.preprocessing import LabelEncoder\n",
    "import matplotlib.pyplot as plt\n",
    "from sklearn.preprocessing import StandardScaler\n"
   ]
  },
  {
   "cell_type": "code",
   "execution_count": 2,
   "metadata": {},
   "outputs": [],
   "source": [
    "from sklearn                  import metrics\n",
    "from sklearn.model_selection  import train_test_split\n",
    "from sklearn.linear_model     import LogisticRegression\n",
    "from sklearn.tree             import DecisionTreeClassifier, export_graphviz\n",
    "from sklearn.naive_bayes      import GaussianNB\n",
    "from sklearn.model_selection  import GridSearchCV\n",
    "from sklearn.neighbors        import KNeighborsClassifier\n",
    "from sklearn.ensemble         import RandomForestClassifier\n",
    "from imblearn.over_sampling   import RandomOverSampler"
   ]
  },
  {
   "cell_type": "markdown",
   "metadata": {},
   "source": [
    "### Importing Data"
   ]
  },
  {
   "cell_type": "code",
   "execution_count": 3,
   "metadata": {},
   "outputs": [],
   "source": [
    "data=pd.read_csv(\"breast-cancer.data\")"
   ]
  },
  {
   "cell_type": "code",
   "execution_count": 4,
   "metadata": {},
   "outputs": [
    {
     "data": {
      "text/html": [
       "<div>\n",
       "<style scoped>\n",
       "    .dataframe tbody tr th:only-of-type {\n",
       "        vertical-align: middle;\n",
       "    }\n",
       "\n",
       "    .dataframe tbody tr th {\n",
       "        vertical-align: top;\n",
       "    }\n",
       "\n",
       "    .dataframe thead th {\n",
       "        text-align: right;\n",
       "    }\n",
       "</style>\n",
       "<table border=\"1\" class=\"dataframe\">\n",
       "  <thead>\n",
       "    <tr style=\"text-align: right;\">\n",
       "      <th></th>\n",
       "      <th>no-recurrence-events</th>\n",
       "      <th>30-39</th>\n",
       "      <th>premeno</th>\n",
       "      <th>30-34</th>\n",
       "      <th>0-2</th>\n",
       "      <th>no</th>\n",
       "      <th>3</th>\n",
       "      <th>left</th>\n",
       "      <th>left_low</th>\n",
       "      <th>no.1</th>\n",
       "    </tr>\n",
       "  </thead>\n",
       "  <tbody>\n",
       "    <tr>\n",
       "      <th>0</th>\n",
       "      <td>no-recurrence-events</td>\n",
       "      <td>40-49</td>\n",
       "      <td>premeno</td>\n",
       "      <td>20-24</td>\n",
       "      <td>0-2</td>\n",
       "      <td>no</td>\n",
       "      <td>2</td>\n",
       "      <td>right</td>\n",
       "      <td>right_up</td>\n",
       "      <td>no</td>\n",
       "    </tr>\n",
       "    <tr>\n",
       "      <th>1</th>\n",
       "      <td>no-recurrence-events</td>\n",
       "      <td>40-49</td>\n",
       "      <td>premeno</td>\n",
       "      <td>20-24</td>\n",
       "      <td>0-2</td>\n",
       "      <td>no</td>\n",
       "      <td>2</td>\n",
       "      <td>left</td>\n",
       "      <td>left_low</td>\n",
       "      <td>no</td>\n",
       "    </tr>\n",
       "    <tr>\n",
       "      <th>2</th>\n",
       "      <td>no-recurrence-events</td>\n",
       "      <td>60-69</td>\n",
       "      <td>ge40</td>\n",
       "      <td>15-19</td>\n",
       "      <td>0-2</td>\n",
       "      <td>no</td>\n",
       "      <td>2</td>\n",
       "      <td>right</td>\n",
       "      <td>left_up</td>\n",
       "      <td>no</td>\n",
       "    </tr>\n",
       "    <tr>\n",
       "      <th>3</th>\n",
       "      <td>no-recurrence-events</td>\n",
       "      <td>40-49</td>\n",
       "      <td>premeno</td>\n",
       "      <td>0-4</td>\n",
       "      <td>0-2</td>\n",
       "      <td>no</td>\n",
       "      <td>2</td>\n",
       "      <td>right</td>\n",
       "      <td>right_low</td>\n",
       "      <td>no</td>\n",
       "    </tr>\n",
       "    <tr>\n",
       "      <th>4</th>\n",
       "      <td>no-recurrence-events</td>\n",
       "      <td>60-69</td>\n",
       "      <td>ge40</td>\n",
       "      <td>15-19</td>\n",
       "      <td>0-2</td>\n",
       "      <td>no</td>\n",
       "      <td>2</td>\n",
       "      <td>left</td>\n",
       "      <td>left_low</td>\n",
       "      <td>no</td>\n",
       "    </tr>\n",
       "  </tbody>\n",
       "</table>\n",
       "</div>"
      ],
      "text/plain": [
       "   no-recurrence-events  30-39  premeno  30-34  0-2  no  3   left   left_low  \\\n",
       "0  no-recurrence-events  40-49  premeno  20-24  0-2  no  2  right   right_up   \n",
       "1  no-recurrence-events  40-49  premeno  20-24  0-2  no  2   left   left_low   \n",
       "2  no-recurrence-events  60-69     ge40  15-19  0-2  no  2  right    left_up   \n",
       "3  no-recurrence-events  40-49  premeno    0-4  0-2  no  2  right  right_low   \n",
       "4  no-recurrence-events  60-69     ge40  15-19  0-2  no  2   left   left_low   \n",
       "\n",
       "  no.1  \n",
       "0   no  \n",
       "1   no  \n",
       "2   no  \n",
       "3   no  \n",
       "4   no  "
      ]
     },
     "execution_count": 4,
     "metadata": {},
     "output_type": "execute_result"
    }
   ],
   "source": [
    "data.head()\n",
    "#data has no column name"
   ]
  },
  {
   "cell_type": "code",
   "execution_count": 5,
   "metadata": {},
   "outputs": [
    {
     "data": {
      "text/html": [
       "<div>\n",
       "<style scoped>\n",
       "    .dataframe tbody tr th:only-of-type {\n",
       "        vertical-align: middle;\n",
       "    }\n",
       "\n",
       "    .dataframe tbody tr th {\n",
       "        vertical-align: top;\n",
       "    }\n",
       "\n",
       "    .dataframe thead th {\n",
       "        text-align: right;\n",
       "    }\n",
       "</style>\n",
       "<table border=\"1\" class=\"dataframe\">\n",
       "  <thead>\n",
       "    <tr style=\"text-align: right;\">\n",
       "      <th></th>\n",
       "      <th>Class</th>\n",
       "      <th>age</th>\n",
       "      <th>menopause</th>\n",
       "      <th>tumor_size</th>\n",
       "      <th>inv_nodes</th>\n",
       "      <th>node_caps</th>\n",
       "      <th>deg_malig</th>\n",
       "      <th>breast</th>\n",
       "      <th>breast_quad</th>\n",
       "      <th>irradiat</th>\n",
       "    </tr>\n",
       "  </thead>\n",
       "  <tbody>\n",
       "    <tr>\n",
       "      <th>0</th>\n",
       "      <td>no-recurrence-events</td>\n",
       "      <td>40-49</td>\n",
       "      <td>premeno</td>\n",
       "      <td>20-24</td>\n",
       "      <td>0-2</td>\n",
       "      <td>no</td>\n",
       "      <td>2</td>\n",
       "      <td>right</td>\n",
       "      <td>right_up</td>\n",
       "      <td>no</td>\n",
       "    </tr>\n",
       "    <tr>\n",
       "      <th>1</th>\n",
       "      <td>no-recurrence-events</td>\n",
       "      <td>40-49</td>\n",
       "      <td>premeno</td>\n",
       "      <td>20-24</td>\n",
       "      <td>0-2</td>\n",
       "      <td>no</td>\n",
       "      <td>2</td>\n",
       "      <td>left</td>\n",
       "      <td>left_low</td>\n",
       "      <td>no</td>\n",
       "    </tr>\n",
       "    <tr>\n",
       "      <th>2</th>\n",
       "      <td>no-recurrence-events</td>\n",
       "      <td>60-69</td>\n",
       "      <td>ge40</td>\n",
       "      <td>15-19</td>\n",
       "      <td>0-2</td>\n",
       "      <td>no</td>\n",
       "      <td>2</td>\n",
       "      <td>right</td>\n",
       "      <td>left_up</td>\n",
       "      <td>no</td>\n",
       "    </tr>\n",
       "    <tr>\n",
       "      <th>3</th>\n",
       "      <td>no-recurrence-events</td>\n",
       "      <td>40-49</td>\n",
       "      <td>premeno</td>\n",
       "      <td>0-4</td>\n",
       "      <td>0-2</td>\n",
       "      <td>no</td>\n",
       "      <td>2</td>\n",
       "      <td>right</td>\n",
       "      <td>right_low</td>\n",
       "      <td>no</td>\n",
       "    </tr>\n",
       "    <tr>\n",
       "      <th>4</th>\n",
       "      <td>no-recurrence-events</td>\n",
       "      <td>60-69</td>\n",
       "      <td>ge40</td>\n",
       "      <td>15-19</td>\n",
       "      <td>0-2</td>\n",
       "      <td>no</td>\n",
       "      <td>2</td>\n",
       "      <td>left</td>\n",
       "      <td>left_low</td>\n",
       "      <td>no</td>\n",
       "    </tr>\n",
       "  </tbody>\n",
       "</table>\n",
       "</div>"
      ],
      "text/plain": [
       "                  Class    age menopause tumor_size inv_nodes node_caps  \\\n",
       "0  no-recurrence-events  40-49   premeno      20-24       0-2        no   \n",
       "1  no-recurrence-events  40-49   premeno      20-24       0-2        no   \n",
       "2  no-recurrence-events  60-69      ge40      15-19       0-2        no   \n",
       "3  no-recurrence-events  40-49   premeno        0-4       0-2        no   \n",
       "4  no-recurrence-events  60-69      ge40      15-19       0-2        no   \n",
       "\n",
       "   deg_malig breast breast_quad irradiat  \n",
       "0          2  right    right_up       no  \n",
       "1          2   left    left_low       no  \n",
       "2          2  right     left_up       no  \n",
       "3          2  right   right_low       no  \n",
       "4          2   left    left_low       no  "
      ]
     },
     "execution_count": 5,
     "metadata": {},
     "output_type": "execute_result"
    }
   ],
   "source": [
    "\n",
    "#copied the column name and assigning each column with a name\n",
    "data.columns=['Class','age','menopause','tumor_size','inv_nodes','node_caps','deg_malig','breast','breast_quad','irradiat']\n",
    "data.head()"
   ]
  },
  {
   "cell_type": "code",
   "execution_count": null,
   "metadata": {},
   "outputs": [],
   "source": []
  },
  {
   "cell_type": "markdown",
   "metadata": {},
   "source": [
    "### Preprocessing"
   ]
  },
  {
   "cell_type": "code",
   "execution_count": 6,
   "metadata": {},
   "outputs": [
    {
     "name": "stdout",
     "output_type": "stream",
     "text": [
      "<class 'pandas.core.frame.DataFrame'>\n",
      "RangeIndex: 285 entries, 0 to 284\n",
      "Data columns (total 10 columns):\n",
      " #   Column       Non-Null Count  Dtype \n",
      "---  ------       --------------  ----- \n",
      " 0   Class        285 non-null    object\n",
      " 1   age          285 non-null    object\n",
      " 2   menopause    285 non-null    object\n",
      " 3   tumor_size   285 non-null    object\n",
      " 4   inv_nodes    285 non-null    object\n",
      " 5   node_caps    285 non-null    object\n",
      " 6   deg_malig    285 non-null    int64 \n",
      " 7   breast       285 non-null    object\n",
      " 8   breast_quad  285 non-null    object\n",
      " 9   irradiat     285 non-null    object\n",
      "dtypes: int64(1), object(9)\n",
      "memory usage: 22.4+ KB\n"
     ]
    }
   ],
   "source": [
    "#checking data type and non-null values\n",
    "data.info()"
   ]
  },
  {
   "cell_type": "markdown",
   "metadata": {},
   "source": [
    "- As we can observed from the data that Age,tumor_size and inv_nodes should be numeric.\n",
    "- Class is our target variable.\n",
    "- ALl cplumns except age, tumor_size and inv_nodes are of categorical type."
   ]
  },
  {
   "cell_type": "code",
   "execution_count": 7,
   "metadata": {},
   "outputs": [
    {
     "name": "stdout",
     "output_type": "stream",
     "text": [
      "age ['40-49' '60-69' '50-59' '30-39' '70-79' '20-29']\n",
      "menopause ['premeno' 'ge40' 'lt40']\n",
      "tumor_size ['20-24' '15-19' '0-4' '25-29' '50-54' '10-14' '30-34' '40-44' '35-39'\n",
      " '5-9' '45-49']\n",
      "inv_nodes ['0-2' '6-8' '9-11' '3-5' '15-17' '12-14' '24-26']\n",
      "node_caps ['no' 'yes' '?']\n",
      "deg_malig [2 1 3]\n",
      "breast ['right' 'left']\n",
      "breast_quad ['right_up' 'left_low' 'left_up' 'right_low' 'central' '?']\n",
      "irradiat ['no' 'yes']\n"
     ]
    }
   ],
   "source": [
    "#Checking unique values of all columns\n",
    "for x in data.columns[1:]:\n",
    "    print(x,data[x].unique())"
   ]
  },
  {
   "cell_type": "markdown",
   "metadata": {},
   "source": [
    "- age, tumor_size and inv_nodes have numbers but have dash(-) between them\n",
    "- node_cap have some values with '?' likely its a Missing Value"
   ]
  },
  {
   "cell_type": "code",
   "execution_count": 8,
   "metadata": {},
   "outputs": [
    {
     "data": {
      "text/html": [
       "<div>\n",
       "<style scoped>\n",
       "    .dataframe tbody tr th:only-of-type {\n",
       "        vertical-align: middle;\n",
       "    }\n",
       "\n",
       "    .dataframe tbody tr th {\n",
       "        vertical-align: top;\n",
       "    }\n",
       "\n",
       "    .dataframe thead th {\n",
       "        text-align: right;\n",
       "    }\n",
       "</style>\n",
       "<table border=\"1\" class=\"dataframe\">\n",
       "  <thead>\n",
       "    <tr style=\"text-align: right;\">\n",
       "      <th></th>\n",
       "      <th>Class</th>\n",
       "      <th>age</th>\n",
       "      <th>menopause</th>\n",
       "      <th>tumor_size</th>\n",
       "      <th>inv_nodes</th>\n",
       "      <th>node_caps</th>\n",
       "      <th>deg_malig</th>\n",
       "      <th>breast</th>\n",
       "      <th>breast_quad</th>\n",
       "      <th>irradiat</th>\n",
       "    </tr>\n",
       "  </thead>\n",
       "  <tbody>\n",
       "    <tr>\n",
       "      <th>144</th>\n",
       "      <td>no-recurrence-events</td>\n",
       "      <td>40-49</td>\n",
       "      <td>premeno</td>\n",
       "      <td>25-29</td>\n",
       "      <td>0-2</td>\n",
       "      <td>?</td>\n",
       "      <td>2</td>\n",
       "      <td>left</td>\n",
       "      <td>right_low</td>\n",
       "      <td>yes</td>\n",
       "    </tr>\n",
       "    <tr>\n",
       "      <th>162</th>\n",
       "      <td>no-recurrence-events</td>\n",
       "      <td>60-69</td>\n",
       "      <td>ge40</td>\n",
       "      <td>25-29</td>\n",
       "      <td>3-5</td>\n",
       "      <td>?</td>\n",
       "      <td>1</td>\n",
       "      <td>right</td>\n",
       "      <td>left_up</td>\n",
       "      <td>yes</td>\n",
       "    </tr>\n",
       "    <tr>\n",
       "      <th>163</th>\n",
       "      <td>no-recurrence-events</td>\n",
       "      <td>60-69</td>\n",
       "      <td>ge40</td>\n",
       "      <td>25-29</td>\n",
       "      <td>3-5</td>\n",
       "      <td>?</td>\n",
       "      <td>1</td>\n",
       "      <td>right</td>\n",
       "      <td>left_low</td>\n",
       "      <td>yes</td>\n",
       "    </tr>\n",
       "    <tr>\n",
       "      <th>182</th>\n",
       "      <td>no-recurrence-events</td>\n",
       "      <td>50-59</td>\n",
       "      <td>ge40</td>\n",
       "      <td>30-34</td>\n",
       "      <td>9-11</td>\n",
       "      <td>?</td>\n",
       "      <td>3</td>\n",
       "      <td>left</td>\n",
       "      <td>left_up</td>\n",
       "      <td>yes</td>\n",
       "    </tr>\n",
       "    <tr>\n",
       "      <th>183</th>\n",
       "      <td>no-recurrence-events</td>\n",
       "      <td>50-59</td>\n",
       "      <td>ge40</td>\n",
       "      <td>30-34</td>\n",
       "      <td>9-11</td>\n",
       "      <td>?</td>\n",
       "      <td>3</td>\n",
       "      <td>left</td>\n",
       "      <td>left_low</td>\n",
       "      <td>yes</td>\n",
       "    </tr>\n",
       "    <tr>\n",
       "      <th>232</th>\n",
       "      <td>recurrence-events</td>\n",
       "      <td>70-79</td>\n",
       "      <td>ge40</td>\n",
       "      <td>15-19</td>\n",
       "      <td>9-11</td>\n",
       "      <td>?</td>\n",
       "      <td>1</td>\n",
       "      <td>left</td>\n",
       "      <td>left_low</td>\n",
       "      <td>yes</td>\n",
       "    </tr>\n",
       "    <tr>\n",
       "      <th>262</th>\n",
       "      <td>recurrence-events</td>\n",
       "      <td>50-59</td>\n",
       "      <td>lt40</td>\n",
       "      <td>20-24</td>\n",
       "      <td>0-2</td>\n",
       "      <td>?</td>\n",
       "      <td>1</td>\n",
       "      <td>left</td>\n",
       "      <td>left_up</td>\n",
       "      <td>no</td>\n",
       "    </tr>\n",
       "    <tr>\n",
       "      <th>263</th>\n",
       "      <td>recurrence-events</td>\n",
       "      <td>50-59</td>\n",
       "      <td>lt40</td>\n",
       "      <td>20-24</td>\n",
       "      <td>0-2</td>\n",
       "      <td>?</td>\n",
       "      <td>1</td>\n",
       "      <td>left</td>\n",
       "      <td>left_low</td>\n",
       "      <td>no</td>\n",
       "    </tr>\n",
       "  </tbody>\n",
       "</table>\n",
       "</div>"
      ],
      "text/plain": [
       "                    Class    age menopause tumor_size inv_nodes node_caps  \\\n",
       "144  no-recurrence-events  40-49   premeno      25-29       0-2         ?   \n",
       "162  no-recurrence-events  60-69      ge40      25-29       3-5         ?   \n",
       "163  no-recurrence-events  60-69      ge40      25-29       3-5         ?   \n",
       "182  no-recurrence-events  50-59      ge40      30-34      9-11         ?   \n",
       "183  no-recurrence-events  50-59      ge40      30-34      9-11         ?   \n",
       "232     recurrence-events  70-79      ge40      15-19      9-11         ?   \n",
       "262     recurrence-events  50-59      lt40      20-24       0-2         ?   \n",
       "263     recurrence-events  50-59      lt40      20-24       0-2         ?   \n",
       "\n",
       "     deg_malig breast breast_quad irradiat  \n",
       "144          2   left   right_low      yes  \n",
       "162          1  right     left_up      yes  \n",
       "163          1  right    left_low      yes  \n",
       "182          3   left     left_up      yes  \n",
       "183          3   left    left_low      yes  \n",
       "232          1   left    left_low      yes  \n",
       "262          1   left     left_up       no  \n",
       "263          1   left    left_low       no  "
      ]
     },
     "execution_count": 8,
     "metadata": {},
     "output_type": "execute_result"
    }
   ],
   "source": [
    "#Checking node_caps with '?'\n",
    "data[(data.node_caps=='?')]"
   ]
  },
  {
   "cell_type": "code",
   "execution_count": 9,
   "metadata": {},
   "outputs": [
    {
     "data": {
      "text/plain": [
       "<AxesSubplot:>"
      ]
     },
     "execution_count": 9,
     "metadata": {},
     "output_type": "execute_result"
    },
    {
     "data": {
      "image/png": "[encoded data removed]",
      "text/plain": [
       "<Figure size 432x288 with 1 Axes>"
      ]
     },
     "metadata": {
      "needs_background": "light"
     },
     "output_type": "display_data"
    }
   ],
   "source": [
    "data.node_caps.hist() #checking counts"
   ]
  },
  {
   "cell_type": "code",
   "execution_count": 10,
   "metadata": {},
   "outputs": [
    {
     "data": {
      "text/html": [
       "<div>\n",
       "<style scoped>\n",
       "    .dataframe tbody tr th:only-of-type {\n",
       "        vertical-align: middle;\n",
       "    }\n",
       "\n",
       "    .dataframe tbody tr th {\n",
       "        vertical-align: top;\n",
       "    }\n",
       "\n",
       "    .dataframe thead th {\n",
       "        text-align: right;\n",
       "    }\n",
       "</style>\n",
       "<table border=\"1\" class=\"dataframe\">\n",
       "  <thead>\n",
       "    <tr style=\"text-align: right;\">\n",
       "      <th></th>\n",
       "      <th>Class</th>\n",
       "      <th>age</th>\n",
       "      <th>menopause</th>\n",
       "      <th>tumor_size</th>\n",
       "      <th>inv_nodes</th>\n",
       "      <th>node_caps</th>\n",
       "      <th>deg_malig</th>\n",
       "      <th>breast</th>\n",
       "      <th>breast_quad</th>\n",
       "      <th>irradiat</th>\n",
       "    </tr>\n",
       "  </thead>\n",
       "  <tbody>\n",
       "  </tbody>\n",
       "</table>\n",
       "</div>"
      ],
      "text/plain": [
       "Empty DataFrame\n",
       "Columns: [Class, age, menopause, tumor_size, inv_nodes, node_caps, deg_malig, breast, breast_quad, irradiat]\n",
       "Index: []"
      ]
     },
     "execution_count": 10,
     "metadata": {},
     "output_type": "execute_result"
    }
   ],
   "source": [
    "#As 'no' values are high so replacing '?' with 'no' and checking them.\n",
    "data.node_caps.replace('?','no',inplace=True)\n",
    "data[(data.node_caps=='?')]"
   ]
  },
  {
   "cell_type": "code",
   "execution_count": null,
   "metadata": {},
   "outputs": [],
   "source": []
  },
  {
   "cell_type": "code",
   "execution_count": null,
   "metadata": {},
   "outputs": [],
   "source": []
  },
  {
   "cell_type": "code",
   "execution_count": 11,
   "metadata": {},
   "outputs": [],
   "source": [
    "#making a list of columns names with numeric values but of object type.\n",
    "x=['age','tumor_size','inv_nodes']\n",
    "for i in x:\n",
    "    data[i]=data[i].str.split('-').apply(lambda x:(int(x[0])+int(x[1]))/2) #formatting them and taking the average"
   ]
  },
  {
   "cell_type": "code",
   "execution_count": 12,
   "metadata": {},
   "outputs": [
    {
     "data": {
      "text/html": [
       "<div>\n",
       "<style scoped>\n",
       "    .dataframe tbody tr th:only-of-type {\n",
       "        vertical-align: middle;\n",
       "    }\n",
       "\n",
       "    .dataframe tbody tr th {\n",
       "        vertical-align: top;\n",
       "    }\n",
       "\n",
       "    .dataframe thead th {\n",
       "        text-align: right;\n",
       "    }\n",
       "</style>\n",
       "<table border=\"1\" class=\"dataframe\">\n",
       "  <thead>\n",
       "    <tr style=\"text-align: right;\">\n",
       "      <th></th>\n",
       "      <th>Class</th>\n",
       "      <th>age</th>\n",
       "      <th>menopause</th>\n",
       "      <th>tumor_size</th>\n",
       "      <th>inv_nodes</th>\n",
       "      <th>node_caps</th>\n",
       "      <th>deg_malig</th>\n",
       "      <th>breast</th>\n",
       "      <th>breast_quad</th>\n",
       "      <th>irradiat</th>\n",
       "    </tr>\n",
       "  </thead>\n",
       "  <tbody>\n",
       "    <tr>\n",
       "      <th>0</th>\n",
       "      <td>no-recurrence-events</td>\n",
       "      <td>44.5</td>\n",
       "      <td>premeno</td>\n",
       "      <td>22.0</td>\n",
       "      <td>1.0</td>\n",
       "      <td>no</td>\n",
       "      <td>2</td>\n",
       "      <td>right</td>\n",
       "      <td>right_up</td>\n",
       "      <td>no</td>\n",
       "    </tr>\n",
       "    <tr>\n",
       "      <th>1</th>\n",
       "      <td>no-recurrence-events</td>\n",
       "      <td>44.5</td>\n",
       "      <td>premeno</td>\n",
       "      <td>22.0</td>\n",
       "      <td>1.0</td>\n",
       "      <td>no</td>\n",
       "      <td>2</td>\n",
       "      <td>left</td>\n",
       "      <td>left_low</td>\n",
       "      <td>no</td>\n",
       "    </tr>\n",
       "    <tr>\n",
       "      <th>2</th>\n",
       "      <td>no-recurrence-events</td>\n",
       "      <td>64.5</td>\n",
       "      <td>ge40</td>\n",
       "      <td>17.0</td>\n",
       "      <td>1.0</td>\n",
       "      <td>no</td>\n",
       "      <td>2</td>\n",
       "      <td>right</td>\n",
       "      <td>left_up</td>\n",
       "      <td>no</td>\n",
       "    </tr>\n",
       "    <tr>\n",
       "      <th>3</th>\n",
       "      <td>no-recurrence-events</td>\n",
       "      <td>44.5</td>\n",
       "      <td>premeno</td>\n",
       "      <td>2.0</td>\n",
       "      <td>1.0</td>\n",
       "      <td>no</td>\n",
       "      <td>2</td>\n",
       "      <td>right</td>\n",
       "      <td>right_low</td>\n",
       "      <td>no</td>\n",
       "    </tr>\n",
       "    <tr>\n",
       "      <th>4</th>\n",
       "      <td>no-recurrence-events</td>\n",
       "      <td>64.5</td>\n",
       "      <td>ge40</td>\n",
       "      <td>17.0</td>\n",
       "      <td>1.0</td>\n",
       "      <td>no</td>\n",
       "      <td>2</td>\n",
       "      <td>left</td>\n",
       "      <td>left_low</td>\n",
       "      <td>no</td>\n",
       "    </tr>\n",
       "  </tbody>\n",
       "</table>\n",
       "</div>"
      ],
      "text/plain": [
       "                  Class   age menopause  tumor_size  inv_nodes node_caps  \\\n",
       "0  no-recurrence-events  44.5   premeno        22.0        1.0        no   \n",
       "1  no-recurrence-events  44.5   premeno        22.0        1.0        no   \n",
       "2  no-recurrence-events  64.5      ge40        17.0        1.0        no   \n",
       "3  no-recurrence-events  44.5   premeno         2.0        1.0        no   \n",
       "4  no-recurrence-events  64.5      ge40        17.0        1.0        no   \n",
       "\n",
       "   deg_malig breast breast_quad irradiat  \n",
       "0          2  right    right_up       no  \n",
       "1          2   left    left_low       no  \n",
       "2          2  right     left_up       no  \n",
       "3          2  right   right_low       no  \n",
       "4          2   left    left_low       no  "
      ]
     },
     "execution_count": 12,
     "metadata": {},
     "output_type": "execute_result"
    }
   ],
   "source": [
    "data.head()    \n"
   ]
  },
  {
   "cell_type": "markdown",
   "metadata": {},
   "source": [
    "- As we can see numeric data looks fine now"
   ]
  },
  {
   "cell_type": "markdown",
   "metadata": {},
   "source": [
    "#### Changing the categorical variables into numeric with Lable Encoder"
   ]
  },
  {
   "cell_type": "code",
   "execution_count": 13,
   "metadata": {},
   "outputs": [],
   "source": [
    "\n",
    "class_label_encoder = LabelEncoder()\n",
    "for i in ['Class','menopause','node_caps','breast','breast_quad','irradiat']:\n",
    "    data[i] = class_label_encoder.fit_transform(data[i])"
   ]
  },
  {
   "cell_type": "code",
   "execution_count": 14,
   "metadata": {},
   "outputs": [
    {
     "data": {
      "text/html": [
       "<div>\n",
       "<style scoped>\n",
       "    .dataframe tbody tr th:only-of-type {\n",
       "        vertical-align: middle;\n",
       "    }\n",
       "\n",
       "    .dataframe tbody tr th {\n",
       "        vertical-align: top;\n",
       "    }\n",
       "\n",
       "    .dataframe thead th {\n",
       "        text-align: right;\n",
       "    }\n",
       "</style>\n",
       "<table border=\"1\" class=\"dataframe\">\n",
       "  <thead>\n",
       "    <tr style=\"text-align: right;\">\n",
       "      <th></th>\n",
       "      <th>Class</th>\n",
       "      <th>age</th>\n",
       "      <th>menopause</th>\n",
       "      <th>tumor_size</th>\n",
       "      <th>inv_nodes</th>\n",
       "      <th>node_caps</th>\n",
       "      <th>deg_malig</th>\n",
       "      <th>breast</th>\n",
       "      <th>breast_quad</th>\n",
       "      <th>irradiat</th>\n",
       "    </tr>\n",
       "  </thead>\n",
       "  <tbody>\n",
       "    <tr>\n",
       "      <th>0</th>\n",
       "      <td>0</td>\n",
       "      <td>44.5</td>\n",
       "      <td>2</td>\n",
       "      <td>22.0</td>\n",
       "      <td>1.0</td>\n",
       "      <td>0</td>\n",
       "      <td>2</td>\n",
       "      <td>1</td>\n",
       "      <td>5</td>\n",
       "      <td>0</td>\n",
       "    </tr>\n",
       "    <tr>\n",
       "      <th>1</th>\n",
       "      <td>0</td>\n",
       "      <td>44.5</td>\n",
       "      <td>2</td>\n",
       "      <td>22.0</td>\n",
       "      <td>1.0</td>\n",
       "      <td>0</td>\n",
       "      <td>2</td>\n",
       "      <td>0</td>\n",
       "      <td>2</td>\n",
       "      <td>0</td>\n",
       "    </tr>\n",
       "    <tr>\n",
       "      <th>2</th>\n",
       "      <td>0</td>\n",
       "      <td>64.5</td>\n",
       "      <td>0</td>\n",
       "      <td>17.0</td>\n",
       "      <td>1.0</td>\n",
       "      <td>0</td>\n",
       "      <td>2</td>\n",
       "      <td>1</td>\n",
       "      <td>3</td>\n",
       "      <td>0</td>\n",
       "    </tr>\n",
       "    <tr>\n",
       "      <th>3</th>\n",
       "      <td>0</td>\n",
       "      <td>44.5</td>\n",
       "      <td>2</td>\n",
       "      <td>2.0</td>\n",
       "      <td>1.0</td>\n",
       "      <td>0</td>\n",
       "      <td>2</td>\n",
       "      <td>1</td>\n",
       "      <td>4</td>\n",
       "      <td>0</td>\n",
       "    </tr>\n",
       "    <tr>\n",
       "      <th>4</th>\n",
       "      <td>0</td>\n",
       "      <td>64.5</td>\n",
       "      <td>0</td>\n",
       "      <td>17.0</td>\n",
       "      <td>1.0</td>\n",
       "      <td>0</td>\n",
       "      <td>2</td>\n",
       "      <td>0</td>\n",
       "      <td>2</td>\n",
       "      <td>0</td>\n",
       "    </tr>\n",
       "    <tr>\n",
       "      <th>...</th>\n",
       "      <td>...</td>\n",
       "      <td>...</td>\n",
       "      <td>...</td>\n",
       "      <td>...</td>\n",
       "      <td>...</td>\n",
       "      <td>...</td>\n",
       "      <td>...</td>\n",
       "      <td>...</td>\n",
       "      <td>...</td>\n",
       "      <td>...</td>\n",
       "    </tr>\n",
       "    <tr>\n",
       "      <th>280</th>\n",
       "      <td>1</td>\n",
       "      <td>34.5</td>\n",
       "      <td>2</td>\n",
       "      <td>32.0</td>\n",
       "      <td>1.0</td>\n",
       "      <td>0</td>\n",
       "      <td>2</td>\n",
       "      <td>0</td>\n",
       "      <td>3</td>\n",
       "      <td>0</td>\n",
       "    </tr>\n",
       "    <tr>\n",
       "      <th>281</th>\n",
       "      <td>1</td>\n",
       "      <td>34.5</td>\n",
       "      <td>2</td>\n",
       "      <td>22.0</td>\n",
       "      <td>1.0</td>\n",
       "      <td>0</td>\n",
       "      <td>3</td>\n",
       "      <td>0</td>\n",
       "      <td>3</td>\n",
       "      <td>1</td>\n",
       "    </tr>\n",
       "    <tr>\n",
       "      <th>282</th>\n",
       "      <td>1</td>\n",
       "      <td>64.5</td>\n",
       "      <td>0</td>\n",
       "      <td>22.0</td>\n",
       "      <td>1.0</td>\n",
       "      <td>0</td>\n",
       "      <td>1</td>\n",
       "      <td>1</td>\n",
       "      <td>3</td>\n",
       "      <td>0</td>\n",
       "    </tr>\n",
       "    <tr>\n",
       "      <th>283</th>\n",
       "      <td>1</td>\n",
       "      <td>44.5</td>\n",
       "      <td>0</td>\n",
       "      <td>32.0</td>\n",
       "      <td>4.0</td>\n",
       "      <td>0</td>\n",
       "      <td>3</td>\n",
       "      <td>0</td>\n",
       "      <td>2</td>\n",
       "      <td>0</td>\n",
       "    </tr>\n",
       "    <tr>\n",
       "      <th>284</th>\n",
       "      <td>1</td>\n",
       "      <td>54.5</td>\n",
       "      <td>0</td>\n",
       "      <td>32.0</td>\n",
       "      <td>4.0</td>\n",
       "      <td>0</td>\n",
       "      <td>3</td>\n",
       "      <td>0</td>\n",
       "      <td>2</td>\n",
       "      <td>0</td>\n",
       "    </tr>\n",
       "  </tbody>\n",
       "</table>\n",
       "<p>285 rows × 10 columns</p>\n",
       "</div>"
      ],
      "text/plain": [
       "     Class   age  menopause  tumor_size  inv_nodes  node_caps  deg_malig  \\\n",
       "0        0  44.5          2        22.0        1.0          0          2   \n",
       "1        0  44.5          2        22.0        1.0          0          2   \n",
       "2        0  64.5          0        17.0        1.0          0          2   \n",
       "3        0  44.5          2         2.0        1.0          0          2   \n",
       "4        0  64.5          0        17.0        1.0          0          2   \n",
       "..     ...   ...        ...         ...        ...        ...        ...   \n",
       "280      1  34.5          2        32.0        1.0          0          2   \n",
       "281      1  34.5          2        22.0        1.0          0          3   \n",
       "282      1  64.5          0        22.0        1.0          0          1   \n",
       "283      1  44.5          0        32.0        4.0          0          3   \n",
       "284      1  54.5          0        32.0        4.0          0          3   \n",
       "\n",
       "     breast  breast_quad  irradiat  \n",
       "0         1            5         0  \n",
       "1         0            2         0  \n",
       "2         1            3         0  \n",
       "3         1            4         0  \n",
       "4         0            2         0  \n",
       "..      ...          ...       ...  \n",
       "280       0            3         0  \n",
       "281       0            3         1  \n",
       "282       1            3         0  \n",
       "283       0            2         0  \n",
       "284       0            2         0  \n",
       "\n",
       "[285 rows x 10 columns]"
      ]
     },
     "execution_count": 14,
     "metadata": {},
     "output_type": "execute_result"
    }
   ],
   "source": [
    "data"
   ]
  },
  {
   "cell_type": "markdown",
   "metadata": {},
   "source": [
    "- Data is successfully converted intp numbers\n",
    "- Now lets check distribution of data"
   ]
  },
  {
   "cell_type": "code",
   "execution_count": 15,
   "metadata": {},
   "outputs": [
    {
     "data": {
      "text/html": [
       "<div>\n",
       "<style scoped>\n",
       "    .dataframe tbody tr th:only-of-type {\n",
       "        vertical-align: middle;\n",
       "    }\n",
       "\n",
       "    .dataframe tbody tr th {\n",
       "        vertical-align: top;\n",
       "    }\n",
       "\n",
       "    .dataframe thead th {\n",
       "        text-align: right;\n",
       "    }\n",
       "</style>\n",
       "<table border=\"1\" class=\"dataframe\">\n",
       "  <thead>\n",
       "    <tr style=\"text-align: right;\">\n",
       "      <th></th>\n",
       "      <th>Class</th>\n",
       "      <th>age</th>\n",
       "      <th>menopause</th>\n",
       "      <th>tumor_size</th>\n",
       "      <th>inv_nodes</th>\n",
       "      <th>node_caps</th>\n",
       "      <th>deg_malig</th>\n",
       "      <th>breast</th>\n",
       "      <th>breast_quad</th>\n",
       "      <th>irradiat</th>\n",
       "    </tr>\n",
       "  </thead>\n",
       "  <tbody>\n",
       "    <tr>\n",
       "      <th>count</th>\n",
       "      <td>285.000000</td>\n",
       "      <td>285.000000</td>\n",
       "      <td>285.000000</td>\n",
       "      <td>285.000000</td>\n",
       "      <td>285.000000</td>\n",
       "      <td>285.000000</td>\n",
       "      <td>285.000000</td>\n",
       "      <td>285.000000</td>\n",
       "      <td>285.000000</td>\n",
       "      <td>285.000000</td>\n",
       "    </tr>\n",
       "    <tr>\n",
       "      <th>mean</th>\n",
       "      <td>0.298246</td>\n",
       "      <td>51.201754</td>\n",
       "      <td>1.070175</td>\n",
       "      <td>26.385965</td>\n",
       "      <td>2.578947</td>\n",
       "      <td>0.196491</td>\n",
       "      <td>2.045614</td>\n",
       "      <td>0.470175</td>\n",
       "      <td>2.775439</td>\n",
       "      <td>0.238596</td>\n",
       "    </tr>\n",
       "    <tr>\n",
       "      <th>std</th>\n",
       "      <td>0.458293</td>\n",
       "      <td>10.087583</td>\n",
       "      <td>0.986880</td>\n",
       "      <td>10.542928</td>\n",
       "      <td>3.456711</td>\n",
       "      <td>0.398043</td>\n",
       "      <td>0.737351</td>\n",
       "      <td>0.499988</td>\n",
       "      <td>1.099981</td>\n",
       "      <td>0.426975</td>\n",
       "    </tr>\n",
       "    <tr>\n",
       "      <th>min</th>\n",
       "      <td>0.000000</td>\n",
       "      <td>24.500000</td>\n",
       "      <td>0.000000</td>\n",
       "      <td>2.000000</td>\n",
       "      <td>1.000000</td>\n",
       "      <td>0.000000</td>\n",
       "      <td>1.000000</td>\n",
       "      <td>0.000000</td>\n",
       "      <td>0.000000</td>\n",
       "      <td>0.000000</td>\n",
       "    </tr>\n",
       "    <tr>\n",
       "      <th>25%</th>\n",
       "      <td>0.000000</td>\n",
       "      <td>44.500000</td>\n",
       "      <td>0.000000</td>\n",
       "      <td>22.000000</td>\n",
       "      <td>1.000000</td>\n",
       "      <td>0.000000</td>\n",
       "      <td>2.000000</td>\n",
       "      <td>0.000000</td>\n",
       "      <td>2.000000</td>\n",
       "      <td>0.000000</td>\n",
       "    </tr>\n",
       "    <tr>\n",
       "      <th>50%</th>\n",
       "      <td>0.000000</td>\n",
       "      <td>54.500000</td>\n",
       "      <td>2.000000</td>\n",
       "      <td>27.000000</td>\n",
       "      <td>1.000000</td>\n",
       "      <td>0.000000</td>\n",
       "      <td>2.000000</td>\n",
       "      <td>0.000000</td>\n",
       "      <td>3.000000</td>\n",
       "      <td>0.000000</td>\n",
       "    </tr>\n",
       "    <tr>\n",
       "      <th>75%</th>\n",
       "      <td>1.000000</td>\n",
       "      <td>54.500000</td>\n",
       "      <td>2.000000</td>\n",
       "      <td>32.000000</td>\n",
       "      <td>4.000000</td>\n",
       "      <td>0.000000</td>\n",
       "      <td>3.000000</td>\n",
       "      <td>1.000000</td>\n",
       "      <td>3.000000</td>\n",
       "      <td>0.000000</td>\n",
       "    </tr>\n",
       "    <tr>\n",
       "      <th>max</th>\n",
       "      <td>1.000000</td>\n",
       "      <td>74.500000</td>\n",
       "      <td>2.000000</td>\n",
       "      <td>52.000000</td>\n",
       "      <td>25.000000</td>\n",
       "      <td>1.000000</td>\n",
       "      <td>3.000000</td>\n",
       "      <td>1.000000</td>\n",
       "      <td>5.000000</td>\n",
       "      <td>1.000000</td>\n",
       "    </tr>\n",
       "  </tbody>\n",
       "</table>\n",
       "</div>"
      ],
      "text/plain": [
       "            Class         age   menopause  tumor_size   inv_nodes   node_caps  \\\n",
       "count  285.000000  285.000000  285.000000  285.000000  285.000000  285.000000   \n",
       "mean     0.298246   51.201754    1.070175   26.385965    2.578947    0.196491   \n",
       "std      0.458293   10.087583    0.986880   10.542928    3.456711    0.398043   \n",
       "min      0.000000   24.500000    0.000000    2.000000    1.000000    0.000000   \n",
       "25%      0.000000   44.500000    0.000000   22.000000    1.000000    0.000000   \n",
       "50%      0.000000   54.500000    2.000000   27.000000    1.000000    0.000000   \n",
       "75%      1.000000   54.500000    2.000000   32.000000    4.000000    0.000000   \n",
       "max      1.000000   74.500000    2.000000   52.000000   25.000000    1.000000   \n",
       "\n",
       "        deg_malig      breast  breast_quad    irradiat  \n",
       "count  285.000000  285.000000   285.000000  285.000000  \n",
       "mean     2.045614    0.470175     2.775439    0.238596  \n",
       "std      0.737351    0.499988     1.099981    0.426975  \n",
       "min      1.000000    0.000000     0.000000    0.000000  \n",
       "25%      2.000000    0.000000     2.000000    0.000000  \n",
       "50%      2.000000    0.000000     3.000000    0.000000  \n",
       "75%      3.000000    1.000000     3.000000    0.000000  \n",
       "max      3.000000    1.000000     5.000000    1.000000  "
      ]
     },
     "execution_count": 15,
     "metadata": {},
     "output_type": "execute_result"
    }
   ],
   "source": [
    "data.describe()"
   ]
  },
  {
   "cell_type": "code",
   "execution_count": 16,
   "metadata": {},
   "outputs": [
    {
     "data": {
      "text/plain": [
       "<seaborn.axisgrid.PairGrid at 0x21ba9f7d520>"
      ]
     },
     "execution_count": 16,
     "metadata": {},
     "output_type": "execute_result"
    },
    {
     "data": {
      "image/png": "[encoded data removed]",
      "text/plain": [
       "<Figure size 1800x1800 with 110 Axes>"
      ]
     },
     "metadata": {
      "needs_background": "light"
     },
     "output_type": "display_data"
    }
   ],
   "source": [
    "sns.pairplot(data)"
   ]
  },
  {
   "cell_type": "markdown",
   "metadata": {},
   "source": [
    "- All columns are normally distributed except 'inv_nodes'\n",
    "Lets check cp"
   ]
  },
  {
   "cell_type": "markdown",
   "metadata": {},
   "source": [
    "Checking the correlation between the columns"
   ]
  },
  {
   "cell_type": "code",
   "execution_count": 17,
   "metadata": {},
   "outputs": [
    {
     "data": {
      "text/html": [
       "<div>\n",
       "<style scoped>\n",
       "    .dataframe tbody tr th:only-of-type {\n",
       "        vertical-align: middle;\n",
       "    }\n",
       "\n",
       "    .dataframe tbody tr th {\n",
       "        vertical-align: top;\n",
       "    }\n",
       "\n",
       "    .dataframe thead th {\n",
       "        text-align: right;\n",
       "    }\n",
       "</style>\n",
       "<table border=\"1\" class=\"dataframe\">\n",
       "  <thead>\n",
       "    <tr style=\"text-align: right;\">\n",
       "      <th></th>\n",
       "      <th>Class</th>\n",
       "      <th>age</th>\n",
       "      <th>menopause</th>\n",
       "      <th>tumor_size</th>\n",
       "      <th>inv_nodes</th>\n",
       "      <th>node_caps</th>\n",
       "      <th>deg_malig</th>\n",
       "      <th>breast</th>\n",
       "      <th>breast_quad</th>\n",
       "      <th>irradiat</th>\n",
       "    </tr>\n",
       "  </thead>\n",
       "  <tbody>\n",
       "    <tr>\n",
       "      <th>Class</th>\n",
       "      <td>1.000000</td>\n",
       "      <td>-0.075897</td>\n",
       "      <td>0.054770</td>\n",
       "      <td>0.176498</td>\n",
       "      <td>0.275144</td>\n",
       "      <td>0.275989</td>\n",
       "      <td>0.303457</td>\n",
       "      <td>-0.060927</td>\n",
       "      <td>0.035537</td>\n",
       "      <td>0.192887</td>\n",
       "    </tr>\n",
       "    <tr>\n",
       "      <th>age</th>\n",
       "      <td>-0.075897</td>\n",
       "      <td>1.000000</td>\n",
       "      <td>-0.719430</td>\n",
       "      <td>-0.007522</td>\n",
       "      <td>-0.037947</td>\n",
       "      <td>-0.057262</td>\n",
       "      <td>-0.079114</td>\n",
       "      <td>-0.047497</td>\n",
       "      <td>-0.054291</td>\n",
       "      <td>-0.045551</td>\n",
       "    </tr>\n",
       "    <tr>\n",
       "      <th>menopause</th>\n",
       "      <td>0.054770</td>\n",
       "      <td>-0.719430</td>\n",
       "      <td>1.000000</td>\n",
       "      <td>0.000772</td>\n",
       "      <td>-0.032595</td>\n",
       "      <td>0.036484</td>\n",
       "      <td>-0.047964</td>\n",
       "      <td>0.061345</td>\n",
       "      <td>0.095659</td>\n",
       "      <td>0.043687</td>\n",
       "    </tr>\n",
       "    <tr>\n",
       "      <th>tumor_size</th>\n",
       "      <td>0.176498</td>\n",
       "      <td>-0.007522</td>\n",
       "      <td>0.000772</td>\n",
       "      <td>1.000000</td>\n",
       "      <td>0.161479</td>\n",
       "      <td>0.205053</td>\n",
       "      <td>0.216500</td>\n",
       "      <td>0.051622</td>\n",
       "      <td>0.152025</td>\n",
       "      <td>0.165634</td>\n",
       "    </tr>\n",
       "    <tr>\n",
       "      <th>inv_nodes</th>\n",
       "      <td>0.275144</td>\n",
       "      <td>-0.037947</td>\n",
       "      <td>-0.032595</td>\n",
       "      <td>0.161479</td>\n",
       "      <td>1.000000</td>\n",
       "      <td>0.587517</td>\n",
       "      <td>0.332209</td>\n",
       "      <td>-0.027665</td>\n",
       "      <td>0.038017</td>\n",
       "      <td>0.323576</td>\n",
       "    </tr>\n",
       "    <tr>\n",
       "      <th>node_caps</th>\n",
       "      <td>0.275989</td>\n",
       "      <td>-0.057262</td>\n",
       "      <td>0.036484</td>\n",
       "      <td>0.205053</td>\n",
       "      <td>0.587517</td>\n",
       "      <td>1.000000</td>\n",
       "      <td>0.329268</td>\n",
       "      <td>-0.005835</td>\n",
       "      <td>0.068964</td>\n",
       "      <td>0.303283</td>\n",
       "    </tr>\n",
       "    <tr>\n",
       "      <th>deg_malig</th>\n",
       "      <td>0.303457</td>\n",
       "      <td>-0.079114</td>\n",
       "      <td>-0.047964</td>\n",
       "      <td>0.216500</td>\n",
       "      <td>0.332209</td>\n",
       "      <td>0.329268</td>\n",
       "      <td>1.000000</td>\n",
       "      <td>-0.048827</td>\n",
       "      <td>0.034380</td>\n",
       "      <td>0.211362</td>\n",
       "    </tr>\n",
       "    <tr>\n",
       "      <th>breast</th>\n",
       "      <td>-0.060927</td>\n",
       "      <td>-0.047497</td>\n",
       "      <td>0.061345</td>\n",
       "      <td>0.051622</td>\n",
       "      <td>-0.027665</td>\n",
       "      <td>-0.005835</td>\n",
       "      <td>-0.048827</td>\n",
       "      <td>1.000000</td>\n",
       "      <td>0.211861</td>\n",
       "      <td>0.016957</td>\n",
       "    </tr>\n",
       "    <tr>\n",
       "      <th>breast_quad</th>\n",
       "      <td>0.035537</td>\n",
       "      <td>-0.054291</td>\n",
       "      <td>0.095659</td>\n",
       "      <td>0.152025</td>\n",
       "      <td>0.038017</td>\n",
       "      <td>0.068964</td>\n",
       "      <td>0.034380</td>\n",
       "      <td>0.211861</td>\n",
       "      <td>1.000000</td>\n",
       "      <td>0.017020</td>\n",
       "    </tr>\n",
       "    <tr>\n",
       "      <th>irradiat</th>\n",
       "      <td>0.192887</td>\n",
       "      <td>-0.045551</td>\n",
       "      <td>0.043687</td>\n",
       "      <td>0.165634</td>\n",
       "      <td>0.323576</td>\n",
       "      <td>0.303283</td>\n",
       "      <td>0.211362</td>\n",
       "      <td>0.016957</td>\n",
       "      <td>0.017020</td>\n",
       "      <td>1.000000</td>\n",
       "    </tr>\n",
       "  </tbody>\n",
       "</table>\n",
       "</div>"
      ],
      "text/plain": [
       "                Class       age  menopause  tumor_size  inv_nodes  node_caps  \\\n",
       "Class        1.000000 -0.075897   0.054770    0.176498   0.275144   0.275989   \n",
       "age         -0.075897  1.000000  -0.719430   -0.007522  -0.037947  -0.057262   \n",
       "menopause    0.054770 -0.719430   1.000000    0.000772  -0.032595   0.036484   \n",
       "tumor_size   0.176498 -0.007522   0.000772    1.000000   0.161479   0.205053   \n",
       "inv_nodes    0.275144 -0.037947  -0.032595    0.161479   1.000000   0.587517   \n",
       "node_caps    0.275989 -0.057262   0.036484    0.205053   0.587517   1.000000   \n",
       "deg_malig    0.303457 -0.079114  -0.047964    0.216500   0.332209   0.329268   \n",
       "breast      -0.060927 -0.047497   0.061345    0.051622  -0.027665  -0.005835   \n",
       "breast_quad  0.035537 -0.054291   0.095659    0.152025   0.038017   0.068964   \n",
       "irradiat     0.192887 -0.045551   0.043687    0.165634   0.323576   0.303283   \n",
       "\n",
       "             deg_malig    breast  breast_quad  irradiat  \n",
       "Class         0.303457 -0.060927     0.035537  0.192887  \n",
       "age          -0.079114 -0.047497    -0.054291 -0.045551  \n",
       "menopause    -0.047964  0.061345     0.095659  0.043687  \n",
       "tumor_size    0.216500  0.051622     0.152025  0.165634  \n",
       "inv_nodes     0.332209 -0.027665     0.038017  0.323576  \n",
       "node_caps     0.329268 -0.005835     0.068964  0.303283  \n",
       "deg_malig     1.000000 -0.048827     0.034380  0.211362  \n",
       "breast       -0.048827  1.000000     0.211861  0.016957  \n",
       "breast_quad   0.034380  0.211861     1.000000  0.017020  \n",
       "irradiat      0.211362  0.016957     0.017020  1.000000  "
      ]
     },
     "execution_count": 17,
     "metadata": {},
     "output_type": "execute_result"
    }
   ],
   "source": [
    "data.corr()"
   ]
  },
  {
   "cell_type": "code",
   "execution_count": 18,
   "metadata": {
    "scrolled": true
   },
   "outputs": [
    {
     "data": {
      "text/plain": [
       "<AxesSubplot:>"
      ]
     },
     "execution_count": 18,
     "metadata": {},
     "output_type": "execute_result"
    },
    {
     "data": {
      "image/png": "[encoded data removed]",
      "text/plain": [
       "<Figure size 864x720 with 2 Axes>"
      ]
     },
     "metadata": {
      "needs_background": "light"
     },
     "output_type": "display_data"
    }
   ],
   "source": [
    "plt.figure(figsize=(12,10))\n",
    "sns.heatmap(data.corr(),annot=True)"
   ]
  },
  {
   "cell_type": "markdown",
   "metadata": {},
   "source": [
    "#### Normalising the numeric data"
   ]
  },
  {
   "cell_type": "code",
   "execution_count": 19,
   "metadata": {},
   "outputs": [],
   "source": [
    "\n",
    "scale=StandardScaler()\n",
    "for i in x:\n",
    "    data[i]=scale.fit_transform(data[[i]])\n",
    "    "
   ]
  },
  {
   "cell_type": "markdown",
   "metadata": {},
   "source": [
    "##### Checking class distribution"
   ]
  },
  {
   "cell_type": "code",
   "execution_count": 20,
   "metadata": {},
   "outputs": [
    {
     "data": {
      "text/plain": [
       "<AxesSubplot:>"
      ]
     },
     "execution_count": 20,
     "metadata": {},
     "output_type": "execute_result"
    },
    {
     "data": {
      "image/png": "[encoded data removed]",
      "text/plain": [
       "<Figure size 432x288 with 1 Axes>"
      ]
     },
     "metadata": {
      "needs_background": "light"
     },
     "output_type": "display_data"
    }
   ],
   "source": [
    "data.Class.hist()"
   ]
  },
  {
   "cell_type": "markdown",
   "metadata": {},
   "source": [
    "- As we can see that class 0 is very high as compared to Class 1\n",
    "- Need to balanced the class as it will create biasness\n",
    "- So Using OVER SAMPLING technique to balanced the data"
   ]
  },
  {
   "cell_type": "code",
   "execution_count": 21,
   "metadata": {},
   "outputs": [
    {
     "data": {
      "text/plain": [
       "<AxesSubplot:>"
      ]
     },
     "execution_count": 21,
     "metadata": {},
     "output_type": "execute_result"
    },
    {
     "data": {
      "image/png": "[encoded data removed]",
      "text/plain": [
       "<Figure size 432x288 with 1 Axes>"
      ]
     },
     "metadata": {
      "needs_background": "light"
     },
     "output_type": "display_data"
    }
   ],
   "source": [
    "#Dividing target and rest variables\n",
    "A=data.drop(['Class'],axis=1)\n",
    "B=data['Class']\n",
    "sampler=RandomOverSampler()\n",
    "X,Y=sampler.fit_sample(A,B)\n",
    "Y.hist()"
   ]
  },
  {
   "cell_type": "markdown",
   "metadata": {},
   "source": [
    "Now Data looks Balanced"
   ]
  },
  {
   "cell_type": "markdown",
   "metadata": {},
   "source": [
    "#### Spliting the train test data"
   ]
  },
  {
   "cell_type": "code",
   "execution_count": 22,
   "metadata": {},
   "outputs": [],
   "source": [
    "X_train,X_test,y_train,y_test=train_test_split(X,Y,test_size=0.3,random_state=100)"
   ]
  },
  {
   "cell_type": "markdown",
   "metadata": {},
   "source": [
    "Making Classifer and Grid fucttion so that we can use it multple times"
   ]
  },
  {
   "cell_type": "code",
   "execution_count": 23,
   "metadata": {},
   "outputs": [],
   "source": [
    "def Classifer(model,X_train,X_test,y_train,y_test):\n",
    "    model.fit(X_train,y_train)\n",
    "    print((\"Train accuracy: \", model.score(X_train, y_train))) ## Train accuracy\n",
    "    print((\"Test accuracy: \", model.score(X_test, y_test)))\n",
    "    y_predict = model.predict(X_test)\n",
    "    print('COFUSION MATRIX :\\n',metrics.confusion_matrix(y_predict, y_test))\n",
    "    print(metrics.classification_report(y_predict, y_test))\n",
    "  "
   ]
  },
  {
   "cell_type": "code",
   "execution_count": 24,
   "metadata": {},
   "outputs": [],
   "source": [
    "def Grid(model,X_train,X_test,y_train,y_test,para):\n",
    "    model1=GridSearchCV(model, param_grid=para, n_jobs=-1,cv=5)\n",
    "    Classifer(model1,X_train,X_test,y_train,y_test)\n",
    "    print(\"Best Hyper Parameters:\\n\",model1.best_params_)"
   ]
  },
  {
   "cell_type": "markdown",
   "metadata": {},
   "source": [
    "### Training Models"
   ]
  },
  {
   "cell_type": "markdown",
   "metadata": {},
   "source": [
    "Using 4 Classifiers and lets compare them"
   ]
  },
  {
   "cell_type": "markdown",
   "metadata": {},
   "source": [
    "#### Logistic Regression"
   ]
  },
  {
   "cell_type": "code",
   "execution_count": 25,
   "metadata": {},
   "outputs": [],
   "source": [
    "Lr_model=LogisticRegression()"
   ]
  },
  {
   "cell_type": "code",
   "execution_count": 26,
   "metadata": {
    "scrolled": true
   },
   "outputs": [
    {
     "name": "stdout",
     "output_type": "stream",
     "text": [
      "('Train accuracy: ', 0.6607142857142857)\n",
      "('Test accuracy: ', 0.6583333333333333)\n",
      "COFUSION MATRIX :\n",
      " [[43 21]\n",
      " [20 36]]\n",
      "              precision    recall  f1-score   support\n",
      "\n",
      "           0       0.68      0.67      0.68        64\n",
      "           1       0.63      0.64      0.64        56\n",
      "\n",
      "    accuracy                           0.66       120\n",
      "   macro avg       0.66      0.66      0.66       120\n",
      "weighted avg       0.66      0.66      0.66       120\n",
      "\n"
     ]
    }
   ],
   "source": [
    "Classifer(Lr_model,X_train,X_test,y_train,y_test)"
   ]
  },
  {
   "cell_type": "markdown",
   "metadata": {},
   "source": [
    "#### KNN Classifier"
   ]
  },
  {
   "cell_type": "code",
   "execution_count": 27,
   "metadata": {},
   "outputs": [
    {
     "name": "stdout",
     "output_type": "stream",
     "text": [
      "('Train accuracy: ', 0.7857142857142857)\n",
      "('Test accuracy: ', 0.675)\n",
      "COFUSION MATRIX :\n",
      " [[40 16]\n",
      " [23 41]]\n",
      "              precision    recall  f1-score   support\n",
      "\n",
      "           0       0.63      0.71      0.67        56\n",
      "           1       0.72      0.64      0.68        64\n",
      "\n",
      "    accuracy                           0.68       120\n",
      "   macro avg       0.68      0.68      0.67       120\n",
      "weighted avg       0.68      0.68      0.68       120\n",
      "\n"
     ]
    }
   ],
   "source": [
    "knn_model= KNeighborsClassifier()\n",
    "Classifer(knn_model,X_train,X_test,y_train,y_test)"
   ]
  },
  {
   "cell_type": "markdown",
   "metadata": {},
   "source": [
    "#### KNN with Hyperparameter Tuning"
   ]
  },
  {
   "cell_type": "code",
   "execution_count": 28,
   "metadata": {},
   "outputs": [
    {
     "name": "stdout",
     "output_type": "stream",
     "text": [
      "('Train accuracy: ', 0.9857142857142858)\n",
      "('Test accuracy: ', 0.6833333333333333)\n",
      "COFUSION MATRIX :\n",
      " [[34  9]\n",
      " [29 48]]\n",
      "              precision    recall  f1-score   support\n",
      "\n",
      "           0       0.54      0.79      0.64        43\n",
      "           1       0.84      0.62      0.72        77\n",
      "\n",
      "    accuracy                           0.68       120\n",
      "   macro avg       0.69      0.71      0.68       120\n",
      "weighted avg       0.73      0.68      0.69       120\n",
      "\n",
      "Best Hyper Parameters:\n",
      " {'algorithm': 'auto', 'leaf_size': 3, 'n_jobs': -1, 'n_neighbors': 9, 'weights': 'distance'}\n"
     ]
    }
   ],
   "source": [
    "para = {'n_neighbors':[i for i in range(3,12,2)],\n",
    "          'leaf_size':[i for i in range(1,15,2)],\n",
    "          'weights':['uniform', 'distance'],\n",
    "          'algorithm':['auto', 'ball_tree','kd_tree','brute'],\n",
    "          'n_jobs':[-1] }\n",
    "Grid(knn_model,X_train,X_test,y_train,y_test,para)"
   ]
  },
  {
   "cell_type": "markdown",
   "metadata": {},
   "source": [
    "#### Decision Tree Classifier"
   ]
  },
  {
   "cell_type": "code",
   "execution_count": 29,
   "metadata": {},
   "outputs": [
    {
     "name": "stdout",
     "output_type": "stream",
     "text": [
      "('Train accuracy: ', 0.7071428571428572)\n",
      "('Test accuracy: ', 0.675)\n",
      "COFUSION MATRIX :\n",
      " [[48 24]\n",
      " [15 33]]\n",
      "              precision    recall  f1-score   support\n",
      "\n",
      "           0       0.76      0.67      0.71        72\n",
      "           1       0.58      0.69      0.63        48\n",
      "\n",
      "    accuracy                           0.68       120\n",
      "   macro avg       0.67      0.68      0.67       120\n",
      "weighted avg       0.69      0.68      0.68       120\n",
      "\n"
     ]
    }
   ],
   "source": [
    "dt_model = DecisionTreeClassifier(criterion = 'entropy', max_depth = 5, min_samples_leaf=2,min_samples_split=3,random_state=12)\n",
    "Classifer(dt_model,X_train,X_test,y_train,y_test)"
   ]
  },
  {
   "cell_type": "markdown",
   "metadata": {},
   "source": [
    "#### Decision Tree with Hyperparameter tuning"
   ]
  },
  {
   "cell_type": "code",
   "execution_count": 30,
   "metadata": {},
   "outputs": [
    {
     "name": "stdout",
     "output_type": "stream",
     "text": [
      "('Train accuracy: ', 0.7857142857142857)\n",
      "('Test accuracy: ', 0.7166666666666667)\n",
      "COFUSION MATRIX :\n",
      " [[51 22]\n",
      " [12 35]]\n",
      "              precision    recall  f1-score   support\n",
      "\n",
      "           0       0.81      0.70      0.75        73\n",
      "           1       0.61      0.74      0.67        47\n",
      "\n",
      "    accuracy                           0.72       120\n",
      "   macro avg       0.71      0.72      0.71       120\n",
      "weighted avg       0.73      0.72      0.72       120\n",
      "\n",
      "Best Hyper Parameters:\n",
      " {'criterion': 'entropy', 'max_depth': 9, 'max_features': 'auto', 'min_samples_leaf': 2, 'min_samples_split': 5, 'random_state': 120}\n"
     ]
    }
   ],
   "source": [
    "para = {'criterion': ['entropy','gini'],\n",
    "        'max_features': ['auto', 'sqrt', 'log2'],\n",
    "          'max_depth': [4,5,6,7,8,9,10],\n",
    "          'min_samples_split': [i for i in range(2,15,1)], \n",
    "          'min_samples_leaf':[i for i in range(2,15,1)],\n",
    "        'random_state':[120]\n",
    "       }\n",
    "Grid(DecisionTreeClassifier(),X_train,X_test,y_train,y_test,para)"
   ]
  },
  {
   "cell_type": "markdown",
   "metadata": {},
   "source": [
    "#### Random Forest Classifier"
   ]
  },
  {
   "cell_type": "code",
   "execution_count": 31,
   "metadata": {},
   "outputs": [
    {
     "name": "stdout",
     "output_type": "stream",
     "text": [
      "('Train accuracy: ', 0.9357142857142857)\n",
      "('Test accuracy: ', 0.8333333333333334)\n",
      "COFUSION MATRIX :\n",
      " [[51  8]\n",
      " [12 49]]\n",
      "              precision    recall  f1-score   support\n",
      "\n",
      "           0       0.81      0.86      0.84        59\n",
      "           1       0.86      0.80      0.83        61\n",
      "\n",
      "    accuracy                           0.83       120\n",
      "   macro avg       0.83      0.83      0.83       120\n",
      "weighted avg       0.84      0.83      0.83       120\n",
      "\n"
     ]
    }
   ],
   "source": [
    "Ran_model=RandomForestClassifier(n_estimators=50,min_samples_leaf=2,min_samples_split=3,random_state=100)\n",
    "Classifer(Ran_model,X_train,X_test,y_train,y_test)"
   ]
  },
  {
   "cell_type": "markdown",
   "metadata": {},
   "source": [
    "#### Random Forest with Hyperparameter tuning"
   ]
  },
  {
   "cell_type": "code",
   "execution_count": 32,
   "metadata": {},
   "outputs": [
    {
     "name": "stdout",
     "output_type": "stream",
     "text": [
      "('Train accuracy: ', 0.9821428571428571)\n",
      "('Test accuracy: ', 0.8083333333333333)\n",
      "COFUSION MATRIX :\n",
      " [[47  7]\n",
      " [16 50]]\n",
      "              precision    recall  f1-score   support\n",
      "\n",
      "           0       0.75      0.87      0.80        54\n",
      "           1       0.88      0.76      0.81        66\n",
      "\n",
      "    accuracy                           0.81       120\n",
      "   macro avg       0.81      0.81      0.81       120\n",
      "weighted avg       0.82      0.81      0.81       120\n",
      "\n",
      "Best Hyper Parameters:\n",
      " {'criterion': 'gini', 'min_samples_leaf': 1, 'min_samples_split': 2, 'n_estimators': 20, 'n_jobs': -1}\n"
     ]
    }
   ],
   "source": [
    "para = {'criterion':['gini','entropy'],\n",
    "          'n_estimators':[i for i in range(10,101,10)],\n",
    "          'min_samples_leaf':[1,2,3,4,5,6,7,8,9,10],\n",
    "          'min_samples_split':[2,3,4,5,6,7],\n",
    "         'n_jobs':[-1],\n",
    "       }\n",
    "Grid(RandomForestClassifier(),X_train,X_test,y_train,y_test,para)\n",
    "        "
   ]
  },
  {
   "cell_type": "markdown",
   "metadata": {},
   "source": [
    "### Finding important feature"
   ]
  },
  {
   "cell_type": "code",
   "execution_count": 35,
   "metadata": {},
   "outputs": [
    {
     "data": {
      "text/plain": [
       "RandomForestClassifier(n_estimators=20, n_jobs=-1, random_state=120)"
      ]
     },
     "execution_count": 35,
     "metadata": {},
     "output_type": "execute_result"
    }
   ],
   "source": [
    "final_model= RandomForestClassifier(min_samples_leaf= 1, min_samples_split= 2, n_estimators = 20, random_state=120,n_jobs= -1)\n",
    "final_model.fit(X_train,y_train)"
   ]
  },
  {
   "cell_type": "code",
   "execution_count": 36,
   "metadata": {},
   "outputs": [
    {
     "data": {
      "text/plain": [
       "<AxesSubplot:>"
      ]
     },
     "execution_count": 36,
     "metadata": {},
     "output_type": "execute_result"
    },
    {
     "data": {
      "image/png": "[encoded data removed]",
      "text/plain": [
       "<Figure size 864x576 with 1 Axes>"
      ]
     },
     "metadata": {
      "needs_background": "light"
     },
     "output_type": "display_data"
    }
   ],
   "source": [
    "plt.figure(figsize=(12,8))\n",
    "imp=pd.Series(final_model.feature_importances_,index=X.columns)\n",
    "imp.nlargest(7).plot(kind='bar')"
   ]
  },
  {
   "cell_type": "markdown",
   "metadata": {},
   "source": [
    "## Conclusion"
   ]
  },
  {
   "cell_type": "markdown",
   "metadata": {},
   "source": [
    "By Comparing the Accuracy and the classification report of all the Classifer, we have come up with a Best Classifier which is Random Forest Classifier with a\n",
    "- Accuracy: 81%\n",
    "- Less False Negative and False Positive as compared to other\n",
    "- Better Precision , Recall and F-score\n",
    "- Best Hyper Parameters:\n",
    " {'criterion': 'gini', 'min_samples_leaf': 1, 'min_samples_split': 2, 'n_estimators': 20, 'n_jobs': -1}\n",
    " - Most important feature is tumor_size followed by breast_quad, age, deg_maling"
   ]
  },
  {
   "cell_type": "code",
   "execution_count": null,
   "metadata": {},
   "outputs": [],
   "source": []
  }
 ],
 "metadata": {
  "kernelspec": {
   "display_name": "Python 3",
   "language": "python",
   "name": "python3"
  },
  "language_info": {
   "codemirror_mode": {
    "name": "ipython",
    "version": 3
   },
   "file_extension": ".py",
   "mimetype": "text/x-python",
   "name": "python",
   "nbconvert_exporter": "python",
   "pygments_lexer": "ipython3",
   "version": "3.8.5"
  }
 },
 "nbformat": 4,
 "nbformat_minor": 4
}
